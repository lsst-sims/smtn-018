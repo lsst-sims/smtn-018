{
 "cells": [
  {
   "cell_type": "markdown",
   "id": "99f5c3b9",
   "metadata": {},
   "source": [
    "Let's get the stats that maybe everyone can agree on as a start\n"
   ]
  },
  {
   "cell_type": "code",
   "execution_count": 1,
   "id": "5f19e729",
   "metadata": {},
   "outputs": [],
   "source": [
    "import numpy as np\n",
    "import matplotlib.pylab as plt\n",
    "%matplotlib inline\n",
    "from rubin_sim.satellite_constellations import (Constellation, starlink_tles_v2,\n",
    "                                                oneweb_tles,\n",
    "                                                ModelObservatory,\n",
    "                                                SatelliteAvoidBasisFunction)\n",
    "import healpy as hp\n",
    "from rubin_sim.data import get_baseline\n",
    "import pandas as pd\n",
    "import sqlite3\n",
    "import os"
   ]
  },
  {
   "cell_type": "code",
   "execution_count": 2,
   "id": "b0b6f821",
   "metadata": {},
   "outputs": [],
   "source": [
    "save_file = 'streaks_all.npz'"
   ]
  },
  {
   "cell_type": "code",
   "execution_count": 3,
   "id": "de83b37c",
   "metadata": {},
   "outputs": [
    {
     "name": "stdout",
     "output_type": "stream",
     "text": [
      "number of satellites=  29988\n"
     ]
    }
   ],
   "source": [
    "# a starlink gen 2 + oneweb\n",
    "tles = starlink_tles_v2() #+ oneweb_tles()\n",
    "const = Constellation(tles)\n",
    "print('number of satellites= ', len(tles))"
   ]
  },
  {
   "cell_type": "code",
   "execution_count": 33,
   "id": "f3f219f0",
   "metadata": {},
   "outputs": [],
   "source": [
    "# note, this was done with 3.0, so might need to dial it back to that to get this right in the future\n",
    "baseline = get_baseline()\n",
    "run_name = os.path.basename(baseline.replace('.db', ''))\n",
    "con = sqlite3.connect(baseline)\n",
    "# year 1\n",
    "visits = pd.read_sql('select fieldRA, fieldDec, altitude, fivesigmadepth, observationstartmjd,rotSkyPos,visitExposureTime from observations where night < 365', con)\n",
    "con.close()"
   ]
  },
  {
   "cell_type": "code",
   "execution_count": 34,
   "id": "77999d71",
   "metadata": {},
   "outputs": [
    {
     "data": {
      "text/html": [
       "<div>\n",
       "<style scoped>\n",
       "    .dataframe tbody tr th:only-of-type {\n",
       "        vertical-align: middle;\n",
       "    }\n",
       "\n",
       "    .dataframe tbody tr th {\n",
       "        vertical-align: top;\n",
       "    }\n",
       "\n",
       "    .dataframe thead th {\n",
       "        text-align: right;\n",
       "    }\n",
       "</style>\n",
       "<table border=\"1\" class=\"dataframe\">\n",
       "  <thead>\n",
       "    <tr style=\"text-align: right;\">\n",
       "      <th></th>\n",
       "      <th>fieldRA</th>\n",
       "      <th>fieldDec</th>\n",
       "      <th>altitude</th>\n",
       "      <th>fiveSigmaDepth</th>\n",
       "      <th>observationStartMJD</th>\n",
       "      <th>rotSkyPos</th>\n",
       "      <th>visitExposureTime</th>\n",
       "    </tr>\n",
       "  </thead>\n",
       "  <tbody>\n",
       "    <tr>\n",
       "      <th>0</th>\n",
       "      <td>298.603526</td>\n",
       "      <td>-15.574752</td>\n",
       "      <td>75.329938</td>\n",
       "      <td>22.546480</td>\n",
       "      <td>60218.001806</td>\n",
       "      <td>224.242758</td>\n",
       "      <td>30.0</td>\n",
       "    </tr>\n",
       "    <tr>\n",
       "      <th>1</th>\n",
       "      <td>297.035243</td>\n",
       "      <td>-13.144502</td>\n",
       "      <td>72.746954</td>\n",
       "      <td>22.532127</td>\n",
       "      <td>60218.002260</td>\n",
       "      <td>231.080063</td>\n",
       "      <td>30.0</td>\n",
       "    </tr>\n",
       "    <tr>\n",
       "      <th>2</th>\n",
       "      <td>295.418862</td>\n",
       "      <td>-15.854174</td>\n",
       "      <td>75.089050</td>\n",
       "      <td>22.546281</td>\n",
       "      <td>60218.002715</td>\n",
       "      <td>238.282952</td>\n",
       "      <td>30.0</td>\n",
       "    </tr>\n",
       "    <tr>\n",
       "      <th>3</th>\n",
       "      <td>356.288005</td>\n",
       "      <td>-51.164810</td>\n",
       "      <td>43.773216</td>\n",
       "      <td>23.128326</td>\n",
       "      <td>60218.004914</td>\n",
       "      <td>129.375130</td>\n",
       "      <td>30.0</td>\n",
       "    </tr>\n",
       "    <tr>\n",
       "      <th>4</th>\n",
       "      <td>0.158759</td>\n",
       "      <td>-53.139864</td>\n",
       "      <td>41.748927</td>\n",
       "      <td>23.075882</td>\n",
       "      <td>60218.005362</td>\n",
       "      <td>130.108353</td>\n",
       "      <td>30.0</td>\n",
       "    </tr>\n",
       "    <tr>\n",
       "      <th>...</th>\n",
       "      <td>...</td>\n",
       "      <td>...</td>\n",
       "      <td>...</td>\n",
       "      <td>...</td>\n",
       "      <td>...</td>\n",
       "      <td>...</td>\n",
       "      <td>...</td>\n",
       "    </tr>\n",
       "    <tr>\n",
       "      <th>216115</th>\n",
       "      <td>127.418325</td>\n",
       "      <td>-9.886886</td>\n",
       "      <td>41.639855</td>\n",
       "      <td>22.575541</td>\n",
       "      <td>60582.395343</td>\n",
       "      <td>147.208171</td>\n",
       "      <td>15.0</td>\n",
       "    </tr>\n",
       "    <tr>\n",
       "      <th>216116</th>\n",
       "      <td>125.666648</td>\n",
       "      <td>-7.743953</td>\n",
       "      <td>41.993831</td>\n",
       "      <td>22.589142</td>\n",
       "      <td>60582.395579</td>\n",
       "      <td>149.420262</td>\n",
       "      <td>15.0</td>\n",
       "    </tr>\n",
       "    <tr>\n",
       "      <th>216117</th>\n",
       "      <td>127.022962</td>\n",
       "      <td>-4.908917</td>\n",
       "      <td>39.334848</td>\n",
       "      <td>22.458614</td>\n",
       "      <td>60582.395820</td>\n",
       "      <td>150.936373</td>\n",
       "      <td>15.0</td>\n",
       "    </tr>\n",
       "    <tr>\n",
       "      <th>216118</th>\n",
       "      <td>130.532609</td>\n",
       "      <td>-9.181433</td>\n",
       "      <td>38.874909</td>\n",
       "      <td>22.447880</td>\n",
       "      <td>60582.396063</td>\n",
       "      <td>146.931615</td>\n",
       "      <td>15.0</td>\n",
       "    </tr>\n",
       "    <tr>\n",
       "      <th>216119</th>\n",
       "      <td>133.615066</td>\n",
       "      <td>-8.435914</td>\n",
       "      <td>35.962928</td>\n",
       "      <td>22.334321</td>\n",
       "      <td>60582.396304</td>\n",
       "      <td>146.691276</td>\n",
       "      <td>15.0</td>\n",
       "    </tr>\n",
       "  </tbody>\n",
       "</table>\n",
       "<p>216120 rows × 7 columns</p>\n",
       "</div>"
      ],
      "text/plain": [
       "           fieldRA   fieldDec   altitude  fiveSigmaDepth  observationStartMJD  \\\n",
       "0       298.603526 -15.574752  75.329938       22.546480         60218.001806   \n",
       "1       297.035243 -13.144502  72.746954       22.532127         60218.002260   \n",
       "2       295.418862 -15.854174  75.089050       22.546281         60218.002715   \n",
       "3       356.288005 -51.164810  43.773216       23.128326         60218.004914   \n",
       "4         0.158759 -53.139864  41.748927       23.075882         60218.005362   \n",
       "...            ...        ...        ...             ...                  ...   \n",
       "216115  127.418325  -9.886886  41.639855       22.575541         60582.395343   \n",
       "216116  125.666648  -7.743953  41.993831       22.589142         60582.395579   \n",
       "216117  127.022962  -4.908917  39.334848       22.458614         60582.395820   \n",
       "216118  130.532609  -9.181433  38.874909       22.447880         60582.396063   \n",
       "216119  133.615066  -8.435914  35.962928       22.334321         60582.396304   \n",
       "\n",
       "         rotSkyPos  visitExposureTime  \n",
       "0       224.242758               30.0  \n",
       "1       231.080063               30.0  \n",
       "2       238.282952               30.0  \n",
       "3       129.375130               30.0  \n",
       "4       130.108353               30.0  \n",
       "...            ...                ...  \n",
       "216115  147.208171               15.0  \n",
       "216116  149.420262               15.0  \n",
       "216117  150.936373               15.0  \n",
       "216118  146.931615               15.0  \n",
       "216119  146.691276               15.0  \n",
       "\n",
       "[216120 rows x 7 columns]"
      ]
     },
     "execution_count": 34,
     "metadata": {},
     "output_type": "execute_result"
    }
   ],
   "source": [
    "visits"
   ]
  },
  {
   "cell_type": "code",
   "execution_count": 6,
   "id": "e720549b",
   "metadata": {},
   "outputs": [],
   "source": [
    "keys = ['fieldRA', 'fieldDec', 'fiveSigmaDepth', 'observationStartMJD', 'rotSkyPos', 'visitExposureTime']\n",
    "types = [float] * len(keys)\n",
    "\n",
    "numpy_visits = np.zeros(np.size(visits[\"fieldRA\"].values), dtype=list(zip(keys,types)))\n",
    "\n",
    "for key in keys:\n",
    "    numpy_visits[key] = visits[key].values\n",
    "\n"
   ]
  },
  {
   "cell_type": "code",
   "execution_count": 7,
   "id": "e8ec68f7",
   "metadata": {},
   "outputs": [],
   "source": [
    "if os.path.isfile(save_file):\n",
    "    data = np.load(save_file)\n",
    "    streak_lengths = data['streak_lengths'].copy()\n",
    "    n_streaks = data['n_streaks'].copy()\n",
    "    data.close()\n",
    "#else:\n",
    "    #streak_lengths, n_streaks = const.check_pointings(visits[\"fieldRA\"].values,\n",
    "    #                                                     visits[\"fieldDec\"].values,\n",
    "    #                                                     visits[\"observationStartMJD\"].values, visit_time=32.)\n",
    "    #np.savez(save_file, streak_lengths=streak_lengths, n_streaks=n_streaks)"
   ]
  },
  {
   "cell_type": "code",
   "execution_count": 8,
   "id": "18762666",
   "metadata": {},
   "outputs": [
    {
     "data": {
      "text/plain": [
       "array([0, 0, 0, ..., 0, 0, 1])"
      ]
     },
     "execution_count": 8,
     "metadata": {},
     "output_type": "execute_result"
    }
   ],
   "source": [
    "n_streaks"
   ]
  },
  {
   "cell_type": "code",
   "execution_count": 9,
   "id": "4e7e3171",
   "metadata": {},
   "outputs": [
    {
     "data": {
      "text/plain": [
       "(216120,)"
      ]
     },
     "execution_count": 9,
     "metadata": {},
     "output_type": "execute_result"
    }
   ],
   "source": [
    "np.shape(n_streaks)"
   ]
  },
  {
   "cell_type": "code",
   "execution_count": null,
   "id": "b9569411",
   "metadata": {},
   "outputs": [],
   "source": []
  },
  {
   "cell_type": "code",
   "execution_count": 10,
   "id": "a8b7db90",
   "metadata": {},
   "outputs": [],
   "source": [
    "# save so we don't have to grind that out again\n",
    "#if not os.path.isfile('streaks.npz'):\n",
    "#    np.savez('streaks.npz', streak_lengths=streak_lengths, n_streaks=n_streaks)"
   ]
  },
  {
   "cell_type": "code",
   "execution_count": 11,
   "id": "c3a14b71",
   "metadata": {},
   "outputs": [
    {
     "name": "stdout",
     "output_type": "stream",
     "text": [
      "Fractional loss of total exposure= 0.039585378597419396\n"
     ]
    }
   ],
   "source": [
    "# not quite right because I have NEO mixed in\n",
    "exptimes = numpy_visits['visitExposureTime']+0\n",
    "exptime_before = np.sum(exptimes)\n",
    "exptimes[np.where(n_streaks > 0)] = exptimes[np.where(n_streaks > 0)]/2.\n",
    "exptime_after = np.sum(exptimes)\n",
    "\n",
    "print('Fractional loss of total exposure=', (exptime_before-exptime_after)/exptime_before)\n"
   ]
  },
  {
   "cell_type": "code",
   "execution_count": null,
   "id": "19fb13d8",
   "metadata": {},
   "outputs": [],
   "source": []
  },
  {
   "cell_type": "code",
   "execution_count": 12,
   "id": "9bc49908",
   "metadata": {},
   "outputs": [
    {
     "name": "stdout",
     "output_type": "stream",
     "text": [
      "fraction of pix lost 0.00043041973301933905\n",
      "fraction of streaked images=  0.08392096983157506\n",
      "mean streak length 15.303812729576498  (arcmin)\n"
     ]
    }
   ],
   "source": [
    "# what fraction of pixels are lost to streaks with a 1 arcmin mask\n",
    "# \n",
    "pixscale = 0.2 # arcsec/pix\n",
    "tot_pix = 3.2e9 # total pixels in focal plane\n",
    "mask_width = 60 # arcsec\n",
    "\n",
    "print('fraction of pix lost', np.sum(streak_lengths/pixscale*3600 * mask_width /pixscale)/(tot_pix*np.size(streak_lengths)))\n",
    "# fraction of images with a streak\n",
    "print('fraction of streaked images= ', np.where(n_streaks > 0)[0].size/np.size(n_streaks))\n",
    "print('mean streak length', np.mean(streak_lengths)*60, ' (arcmin)') # to arcmin"
   ]
  },
  {
   "cell_type": "code",
   "execution_count": null,
   "id": "c6436766",
   "metadata": {},
   "outputs": [],
   "source": []
  },
  {
   "cell_type": "code",
   "execution_count": null,
   "id": "674d84a9",
   "metadata": {},
   "outputs": [],
   "source": []
  },
  {
   "cell_type": "code",
   "execution_count": null,
   "id": "5d2b179b",
   "metadata": {},
   "outputs": [],
   "source": []
  },
  {
   "cell_type": "code",
   "execution_count": 13,
   "id": "8fdbcc1f",
   "metadata": {},
   "outputs": [
    {
     "name": "stdout",
     "output_type": "stream",
     "text": [
      "number of non-NEO visits = 210679\n",
      "fraction of non-neo streaked images=  0.07429786547306566\n",
      "fraction of pix lost non-NEO 0.000391380638286256\n",
      "mean streak length non-NEO 13.915756027955771  (arcmin)\n"
     ]
    }
   ],
   "source": [
    "non_neo = np.where(numpy_visits[\"visitExposureTime\"] > 20)[0]\n",
    "print('number of non-NEO visits = %i' % non_neo.size)\n",
    "print('fraction of non-neo streaked images= ', np.where(n_streaks[non_neo] > 0)[0].size/np.size(n_streaks[non_neo]))\n",
    "\n",
    "print('fraction of pix lost non-NEO', np.sum(streak_lengths[non_neo]/pixscale*3600 * mask_width /pixscale)/(tot_pix*np.size(streak_lengths[non_neo])))\n",
    "print('mean streak length non-NEO', np.mean(streak_lengths[non_neo])*60, ' (arcmin)') # to arcmin\n"
   ]
  },
  {
   "cell_type": "code",
   "execution_count": null,
   "id": "281533b9",
   "metadata": {},
   "outputs": [],
   "source": []
  },
  {
   "cell_type": "code",
   "execution_count": 14,
   "id": "911f7bcf",
   "metadata": {},
   "outputs": [
    {
     "name": "stdout",
     "output_type": "stream",
     "text": [
      "number of NEO visits=5441\n",
      "fraction of neo streaked images=  0.45653372541812165\n",
      "fraction of pix lost neo 0.001942038450032973\n",
      "mean streak length NEO 69.05025600117237  (arcmin)\n"
     ]
    }
   ],
   "source": [
    "neo = np.where(numpy_visits[\"visitExposureTime\"] <= 20)[0]\n",
    "print('number of NEO visits=%i' % neo.size)\n",
    "print('fraction of neo streaked images= ', np.where(n_streaks[neo] > 0)[0].size/np.size(n_streaks[neo]))\n",
    "print('fraction of pix lost neo', np.sum(streak_lengths[neo]/pixscale*3600 * mask_width /pixscale)/(tot_pix*np.size(streak_lengths[neo])))\n",
    "print('mean streak length NEO', np.mean(streak_lengths[neo])*60, ' (arcmin)') # to arcmin\n"
   ]
  },
  {
   "cell_type": "code",
   "execution_count": null,
   "id": "17c50383",
   "metadata": {},
   "outputs": [],
   "source": []
  },
  {
   "cell_type": "code",
   "execution_count": 25,
   "id": "d1982d20-4499-4d5a-b597-607bafab7188",
   "metadata": {},
   "outputs": [
    {
     "data": {
      "text/plain": [
       "Text(0.5, 1.0, 'baseline_v3.0_10yrs')"
      ]
     },
     "execution_count": 25,
     "metadata": {},
     "output_type": "execute_result"
    },
    {
     "data": {
      "image/png": "[encoded data removed]",
      "text/plain": [
       "<Figure size 640x480 with 1 Axes>"
      ]
     },
     "metadata": {},
     "output_type": "display_data"
    }
   ],
   "source": [
    "bins = np.arange(0,7, 1) - 0.5\n",
    "_ack = plt.hist(n_streaks, bins=bins)\n",
    "plt.yscale('log')\n",
    "plt.xlabel('N Streaks')\n",
    "plt.ylabel('N Visits')\n",
    "plt.title(run_name)"
   ]
  },
  {
   "cell_type": "code",
   "execution_count": 30,
   "id": "d055b28e-8f53-4d8f-bf5d-87bcca4cb13c",
   "metadata": {},
   "outputs": [
    {
     "name": "stdout",
     "output_type": "stream",
     "text": [
      "0 0.0 0.0\n",
      "1 2.3710698721987056 3.499631849339453\n",
      "2 4.725700740072628 6.993171083264245\n",
      "3 7.157197399536305 10.460161917554249\n",
      "4 9.550594242297768 13.596108037678052\n",
      "5 11.3575114274 14.910435876186583\n"
     ]
    }
   ],
   "source": [
    "# OK, streak length is in degrees\n",
    "ack = []\n",
    "for sl in np.unique(n_streaks):\n",
    "    good = np.where(n_streaks == sl)[0]\n",
    "    ack.append(streak_lengths[good].mean())\n",
    "    print(sl, streak_lengths[good].mean(), streak_lengths[good].max())"
   ]
  },
  {
   "cell_type": "code",
   "execution_count": 32,
   "id": "a04e8b42-5860-4e4d-9965-46000d06a29d",
   "metadata": {},
   "outputs": [
    {
     "data": {
      "text/plain": [
       "Text(0, 0.5, 'Mean Streak Length (deg)')"
      ]
     },
     "execution_count": 32,
     "metadata": {},
     "output_type": "execute_result"
    },
    {
     "data": {
      "image/png": "[encoded data removed]",
      "text/plain": [
       "<Figure size 640x480 with 1 Axes>"
      ]
     },
     "metadata": {},
     "output_type": "display_data"
    }
   ],
   "source": [
    "plt.plot(np.unique(n_streaks), ack, 'ko')\n",
    "plt.xlabel('N streaks')\n",
    "plt.ylabel('Mean Streak Length (deg)')"
   ]
  },
  {
   "cell_type": "code",
   "execution_count": 42,
   "id": "3be3cee9-7e80-4e47-be6a-266b830c7589",
   "metadata": {},
   "outputs": [
    {
     "name": "stdout",
     "output_type": "stream",
     "text": [
      "0.274066091954023 31.31053281608345\n"
     ]
    }
   ],
   "source": [
    "good = np.where(visits['altitude'] < 30)[0]\n",
    "print(np.mean(n_streaks[good]), np.mean(streak_lengths[good]*60))"
   ]
  },
  {
   "cell_type": "code",
   "execution_count": 43,
   "id": "1f224935-e68a-41a5-8f42-e4621fb94a19",
   "metadata": {},
   "outputs": [
    {
     "name": "stdout",
     "output_type": "stream",
     "text": [
      "0.10545805677429032 15.09492764351116\n"
     ]
    }
   ],
   "source": [
    "good = np.where(visits['altitude'] > 30)[0]\n",
    "print(np.mean(n_streaks[good]), np.mean(streak_lengths[good]*60))"
   ]
  },
  {
   "cell_type": "code",
   "execution_count": 45,
   "id": "227080df-c435-4f6f-9199-cc7d4a5be097",
   "metadata": {},
   "outputs": [
    {
     "data": {
      "text/plain": [
       "15.303812729576498"
      ]
     },
     "execution_count": 45,
     "metadata": {},
     "output_type": "execute_result"
    }
   ],
   "source": [
    "np.mean(streak_lengths)*60"
   ]
  },
  {
   "cell_type": "code",
   "execution_count": null,
   "id": "b42cb59a-e525-4d97-a049-e825566ad47c",
   "metadata": {},
   "outputs": [],
   "source": []
  }
 ],
 "metadata": {
  "kernelspec": {
   "display_name": "Python 3 (ipykernel)",
   "language": "python",
   "name": "python3"
  },
  "language_info": {
   "codemirror_mode": {
    "name": "ipython",
    "version": 3
   },
   "file_extension": ".py",
   "mimetype": "text/x-python",
   "name": "python",
   "nbconvert_exporter": "python",
   "pygments_lexer": "ipython3",
   "version": "3.11.4"
  }
 },
 "nbformat": 4,
 "nbformat_minor": 5
}
